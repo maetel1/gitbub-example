{
    "nbformat_minor": 1, 
    "cells": [
        {
            "source": "# Capstone Project : Determining the best location for a restaurant in Yaounde, CMR", 
            "cell_type": "markdown", 
            "metadata": {
                "collapsed": true
            }
        }, 
        {
            "source": "### Introduction/Business Plan", 
            "cell_type": "markdown", 
            "metadata": {}
        }, 
        {
            "source": "Yaounde is a bustling city and the political capital of Cameroon.ocated at the heart of the country, in Cameroon's central region, it has a population of approximately 1.3 M of inhabitants. opportunities abound for a city of Yaounde's size, especially when it comes to opening restaurants. A very important question to answer is : \" Where is the best place to open a restaurant in Yaounde?\" \n\nIn this project we will aim to determine the best place to open a restaurant in the city.We will target Neighborhoods with high foot traffic to restaurants as well as areas with the most tips to guide our decision . \n", 
            "cell_type": "markdown", 
            "metadata": {}
        }, 
        {
            "source": "###", 
            "cell_type": "markdown", 
            "metadata": {}
        }
    ], 
    "metadata": {
        "kernelspec": {
            "display_name": "Python 3.5", 
            "name": "python3", 
            "language": "python"
        }, 
        "language_info": {
            "mimetype": "text/x-python", 
            "nbconvert_exporter": "python", 
            "version": "3.5.5", 
            "name": "python", 
            "file_extension": ".py", 
            "pygments_lexer": "ipython3", 
            "codemirror_mode": {
                "version": 3, 
                "name": "ipython"
            }
        }
    }, 
    "nbformat": 4
}